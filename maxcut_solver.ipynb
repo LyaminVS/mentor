{
 "cells": [
  {
   "cell_type": "code",
   "execution_count": 1,
   "id": "e9ce2a80",
   "metadata": {},
   "outputs": [],
   "source": [
    "import QAOAQuquarts\n",
    "import networkx as nx\n",
    "import numpy as np\n",
    "import scipy\n",
    "import cirq"
   ]
  },
  {
   "cell_type": "code",
   "execution_count": 2,
   "id": "b15c6ed3",
   "metadata": {},
   "outputs": [
    {
     "data": {
      "image/png": "[encoded data removed]",
      "text/plain": [
       "<Figure size 432x288 with 1 Axes>"
      ]
     },
     "metadata": {},
     "output_type": "display_data"
    }
   ],
   "source": [
    "G = nx.Graph()\n",
    "n = 5\n",
    "G.add_nodes_from([i for i in range(0, n)])\n",
    "G.add_edges_from([(i, (i + 1) % n) for i in range(0, n)])\n",
    "\n",
    "solver = QAOAQuquarts.MAXCUTSolver(qudit_dimension=4, layers=4, graph=G, verbose=True)\n",
    "solver.draw_graph()\n"
   ]
  },
  {
   "cell_type": "code",
   "execution_count": 3,
   "id": "e4a3ec4b",
   "metadata": {},
   "outputs": [
    {
     "data": {
      "image/svg+xml": [
       "<svg xmlns=\"http://www.w3.org/2000/svg\" width=\"1573.532421875\" height=\"150.0\"><line x1=\"38.5016796875\" x2=\"1543.532421875\" y1=\"25.0\" y2=\"25.0\" stroke=\"#1967d2\" stroke-width=\"1\" /><line x1=\"38.5016796875\" x2=\"1543.532421875\" y1=\"75.0\" y2=\"75.0\" stroke=\"#1967d2\" stroke-width=\"1\" /><line x1=\"38.5016796875\" x2=\"1543.532421875\" y1=\"125.0\" y2=\"125.0\" stroke=\"#1967d2\" stroke-width=\"1\" /><line x1=\"521.15076171875\" x2=\"521.15076171875\" y1=\"25.0\" y2=\"125.0\" stroke=\"black\" stroke-width=\"3\" /><line x1=\"765.5721093750001\" x2=\"765.5721093750001\" y1=\"25.0\" y2=\"75.0\" stroke=\"black\" stroke-width=\"3\" /><line x1=\"1266.0905859375\" x2=\"1266.0905859375\" y1=\"75.0\" y2=\"125.0\" stroke=\"black\" stroke-width=\"3\" /><rect x=\"10.0\" y=\"5.0\" width=\"57.003359375\" height=\"40\" stroke=\"black\" fill=\"white\" stroke-width=\"0\" /><text x=\"38.5016796875\" y=\"25.0\" dominant-baseline=\"middle\" text-anchor=\"middle\" font-size=\"14px\" font-family=\"Arial\">0 (d=4): </text><rect x=\"10.0\" y=\"55.0\" width=\"57.003359375\" height=\"40\" stroke=\"black\" fill=\"white\" stroke-width=\"0\" /><text x=\"38.5016796875\" y=\"75.0\" dominant-baseline=\"middle\" text-anchor=\"middle\" font-size=\"14px\" font-family=\"Arial\">1 (d=4): </text><rect x=\"10.0\" y=\"105.0\" width=\"57.003359375\" height=\"40\" stroke=\"black\" fill=\"white\" stroke-width=\"0\" /><text x=\"38.5016796875\" y=\"125.0\" dominant-baseline=\"middle\" text-anchor=\"middle\" font-size=\"14px\" font-family=\"Arial\">2 (d=4): </text><rect x=\"87.003359375\" y=\"5.0\" width=\"40\" height=\"40\" stroke=\"black\" fill=\"white\" stroke-width=\"1\" /><text x=\"107.003359375\" y=\"25.0\" dominant-baseline=\"middle\" text-anchor=\"middle\" font-size=\"14px\" font-family=\"Arial\">[H4]</text><rect x=\"87.003359375\" y=\"55.0\" width=\"40\" height=\"40\" stroke=\"black\" fill=\"white\" stroke-width=\"1\" /><text x=\"107.003359375\" y=\"75.0\" dominant-baseline=\"middle\" text-anchor=\"middle\" font-size=\"14px\" font-family=\"Arial\">[H4]</text><rect x=\"87.003359375\" y=\"105.0\" width=\"40\" height=\"40\" stroke=\"black\" fill=\"white\" stroke-width=\"1\" /><text x=\"107.003359375\" y=\"125.0\" dominant-baseline=\"middle\" text-anchor=\"middle\" font-size=\"14px\" font-family=\"Arial\">[H4]</text><rect x=\"147.00335937500003\" y=\"5.0\" width=\"239.99019531250002\" height=\"40\" stroke=\"black\" fill=\"white\" stroke-width=\"1\" /><text x=\"266.99845703125004\" y=\"25.0\" dominant-baseline=\"middle\" text-anchor=\"middle\" font-size=\"14px\" font-family=\"Arial\">[InnerZZ4]^3.56007494638505*alpha</text><rect x=\"406.9935546875\" y=\"5.0\" width=\"228.31441406250002\" height=\"40\" stroke=\"black\" fill=\"white\" stroke-width=\"1\" /><text x=\"521.15076171875\" y=\"25.0\" dominant-baseline=\"middle\" text-anchor=\"middle\" font-size=\"14px\" font-family=\"Arial\">[ZZ4-0]^0.187914300857497*alpha</text><rect x=\"406.9935546875\" y=\"105.0\" width=\"228.31441406250002\" height=\"40\" stroke=\"black\" fill=\"white\" stroke-width=\"1\" /><text x=\"521.15076171875\" y=\"125.0\" dominant-baseline=\"middle\" text-anchor=\"middle\" font-size=\"14px\" font-family=\"Arial\">[ZZ4-0]^0.187914300857497*alpha</text><rect x=\"655.3079687500001\" y=\"5.0\" width=\"220.52828125000002\" height=\"40\" stroke=\"black\" fill=\"white\" stroke-width=\"1\" /><text x=\"765.5721093750001\" y=\"25.0\" dominant-baseline=\"middle\" text-anchor=\"middle\" font-size=\"14px\" font-family=\"Arial\">[ZZ4-1]^3.16144422667313*alpha</text><rect x=\"655.3079687500001\" y=\"55.0\" width=\"220.52828125000002\" height=\"40\" stroke=\"black\" fill=\"white\" stroke-width=\"1\" /><text x=\"765.5721093750001\" y=\"75.0\" dominant-baseline=\"middle\" text-anchor=\"middle\" font-size=\"14px\" font-family=\"Arial\">[ZZ4-0]^3.16144422667313*alpha</text><rect x=\"895.8362500000001\" y=\"55.0\" width=\"239.99019531250002\" height=\"40\" stroke=\"black\" fill=\"white\" stroke-width=\"1\" /><text x=\"1015.83134765625\" y=\"75.0\" dominant-baseline=\"middle\" text-anchor=\"middle\" font-size=\"14px\" font-family=\"Arial\">[InnerZZ4]^3.33171661864294*alpha</text><rect x=\"1155.8264453125\" y=\"55.0\" width=\"220.52828125000002\" height=\"40\" stroke=\"black\" fill=\"white\" stroke-width=\"1\" /><text x=\"1266.0905859375\" y=\"75.0\" dominant-baseline=\"middle\" text-anchor=\"middle\" font-size=\"14px\" font-family=\"Arial\">[ZZ4-1]^2.59356972124723*alpha</text><rect x=\"1155.8264453125\" y=\"105.0\" width=\"220.52828125000002\" height=\"40\" stroke=\"black\" fill=\"white\" stroke-width=\"1\" /><text x=\"1266.0905859375\" y=\"125.0\" dominant-baseline=\"middle\" text-anchor=\"middle\" font-size=\"14px\" font-family=\"Arial\">[ZZ4-0]^2.59356972124723*alpha</text><rect x=\"1396.3547265625\" y=\"5.0\" width=\"67.17769531249999\" height=\"40\" stroke=\"black\" fill=\"white\" stroke-width=\"1\" /><text x=\"1429.94357421875\" y=\"25.0\" dominant-baseline=\"middle\" text-anchor=\"middle\" font-size=\"14px\" font-family=\"Arial\">[X4]^beta</text><rect x=\"1396.3547265625\" y=\"55.0\" width=\"67.17769531249999\" height=\"40\" stroke=\"black\" fill=\"white\" stroke-width=\"1\" /><text x=\"1429.94357421875\" y=\"75.0\" dominant-baseline=\"middle\" text-anchor=\"middle\" font-size=\"14px\" font-family=\"Arial\">[X4]^beta</text><rect x=\"1396.3547265625\" y=\"105.0\" width=\"67.17769531249999\" height=\"40\" stroke=\"black\" fill=\"white\" stroke-width=\"1\" /><text x=\"1429.94357421875\" y=\"125.0\" dominant-baseline=\"middle\" text-anchor=\"middle\" font-size=\"14px\" font-family=\"Arial\">[X4]^beta</text><rect x=\"1483.532421875\" y=\"5.0\" width=\"40\" height=\"40\" stroke=\"black\" fill=\"white\" stroke-width=\"1\" /><text x=\"1503.532421875\" y=\"25.0\" dominant-baseline=\"middle\" text-anchor=\"middle\" font-size=\"18px\" font-family=\"Arial\">M</text><rect x=\"1483.532421875\" y=\"55.0\" width=\"40\" height=\"40\" stroke=\"black\" fill=\"white\" stroke-width=\"1\" /><text x=\"1503.532421875\" y=\"75.0\" dominant-baseline=\"middle\" text-anchor=\"middle\" font-size=\"18px\" font-family=\"Arial\">M</text><rect x=\"1483.532421875\" y=\"105.0\" width=\"40\" height=\"40\" stroke=\"black\" fill=\"white\" stroke-width=\"1\" /><text x=\"1503.532421875\" y=\"125.0\" dominant-baseline=\"middle\" text-anchor=\"middle\" font-size=\"18px\" font-family=\"Arial\">M</text></svg>"
      ],
      "text/plain": [
       "<cirq.contrib.svg.svg.SVGCircuit at 0x7fda01651280>"
      ]
     },
     "execution_count": 3,
     "metadata": {},
     "output_type": "execute_result"
    }
   ],
   "source": [
    "solver.draw_circuit()\n"
   ]
  },
  {
   "cell_type": "code",
   "execution_count": null,
   "id": "f0e2d314",
   "metadata": {},
   "outputs": [
    {
     "name": "stdout",
     "output_type": "stream",
     "text": [
      "||||||----------------------------------------------------------------------------------------------\n",
      "||||||||||||----------------------------------------------------------------------------------------\n",
      "||||||||||||||||||----------------------------------------------------------------------------------\n",
      "|||||||||||||||||||||||||---------------------------------------------------------------------------\n",
      "|||||||||||||||||||||||||||||||---------------------------------------------------------------------\n",
      "|||||||||||||||||||||||||||||||||||||---------------------------------------------------------------\n",
      "|||||||||||||||||||||||||||||||||||||||||||---------------------------------------------------------\n",
      "||||||||||||||||||||||||||||||||||||||||||||||||||--------------------------------------------------\n",
      "||||||||||||||||||||||||||||||||||||||||||||||||||||||||--------------------------------------------\n",
      "||||||||||||||||||||||||||||||||||||||||||||||||||||||||||||||--------------------------------------\n",
      "||||||||||||||||||||||||||||||||||||||||||||||||||||||||||||||||||||--------------------------------\n",
      "|||||||||||||||||||||||||||||||||||||||||||||||||||||||||||||||||||||||||||-------------------------\n",
      "|||||||||||||||||||||||||||||||||||||||||||||||||||||||||||||||||||||||||||||||||-------------------\n"
     ]
    }
   ],
   "source": [
    "solver.solve()\n"
   ]
  },
  {
   "cell_type": "code",
   "execution_count": null,
   "id": "eaffe555",
   "metadata": {},
   "outputs": [],
   "source": [
    "solver.get_hist(0.4)"
   ]
  },
  {
   "cell_type": "code",
   "execution_count": null,
   "id": "b5af186b",
   "metadata": {
    "scrolled": true
   },
   "outputs": [],
   "source": [
    "solver.draw_colored_graph()"
   ]
  },
  {
   "cell_type": "code",
   "execution_count": null,
   "id": "b6131933",
   "metadata": {},
   "outputs": [],
   "source": [
    "solver.get_best_params()"
   ]
  },
  {
   "cell_type": "code",
   "execution_count": null,
   "id": "31b08263",
   "metadata": {},
   "outputs": [],
   "source": [
    "solver.classical_solve()"
   ]
  },
  {
   "cell_type": "code",
   "execution_count": null,
   "id": "e2dcfef5",
   "metadata": {},
   "outputs": [],
   "source": []
  },
  {
   "cell_type": "code",
   "execution_count": null,
   "id": "17c81638",
   "metadata": {},
   "outputs": [],
   "source": [
    "def f(x):\n",
    "    return x**2\n",
    "scipy.optimize.minimize(f, 1)"
   ]
  },
  {
   "cell_type": "code",
   "execution_count": null,
   "id": "e0067817",
   "metadata": {},
   "outputs": [],
   "source": []
  }
 ],
 "metadata": {
  "kernelspec": {
   "display_name": "Python 3",
   "language": "python",
   "name": "python3"
  },
  "language_info": {
   "codemirror_mode": {
    "name": "ipython",
    "version": 3
   },
   "file_extension": ".py",
   "mimetype": "text/x-python",
   "name": "python",
   "nbconvert_exporter": "python",
   "pygments_lexer": "ipython3",
   "version": "3.8.8"
  }
 },
 "nbformat": 4,
 "nbformat_minor": 5
}

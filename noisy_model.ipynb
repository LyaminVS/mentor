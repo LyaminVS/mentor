{
 "cells": [
  {
   "cell_type": "code",
   "execution_count": 133,
   "id": "10846c71",
   "metadata": {},
   "outputs": [],
   "source": [
    "import cirq\n",
    "import numpy as np\n",
    "import matplotlib.pyplot as plt"
   ]
  },
  {
   "cell_type": "code",
   "execution_count": 134,
   "id": "7e2080d3",
   "metadata": {},
   "outputs": [],
   "source": [
    "def get_state_vectors(chunks):\n",
    "    density_matrix = 0\n",
    "    ans = []\n",
    "    for i, chunk in enumerate(chunks):\n",
    "        result = simulator.simulate(chunk, initial_state=density_matrix)\n",
    "        ans.append(result.final_density_matrix)\n",
    "        density_matrix = result.final_density_matrix\n",
    "    return ans"
   ]
  },
  {
   "cell_type": "code",
   "execution_count": 135,
   "id": "98dd2475",
   "metadata": {},
   "outputs": [],
   "source": [
    "def basic_circuit_without_channel():\n",
    "    yield cirq.X(q0), cirq.X(q1)\n",
    "    yield cirq.H(q0), cirq.H(q1)\n",
    "    yield cirq.CX(q0, q1)\n",
    "    yield cirq.H(q0), cirq.H(q1)\n"
   ]
  },
  {
   "cell_type": "code",
   "execution_count": 138,
   "id": "348ecda4",
   "metadata": {},
   "outputs": [
    {
     "name": "stdout",
     "output_type": "stream",
     "text": [
      "0: ───X───H───@───H───\n",
      "              │\n",
      "1: ───X───H───X───H───\n"
     ]
    }
   ],
   "source": [
    "q0, q1 = cirq.LineQubit.range(2)\n",
    "\n",
    "p = 0.001\n",
    "\n",
    "circuit = cirq.Circuit()\n",
    "\n",
    "circuit.append(basic_circuit_without_channel())\n",
    "\n",
    "print(circuit)\n",
    "\n",
    "simulator = cirq.DensityMatrixSimulator()\n",
    "\n",
    "densities_with_channels = []\n",
    "densities_without_channels = []\n",
    "\n",
    "for step_result in simulator.simulate_moment_steps(circuit):\n",
    "    densities_without_channels.append(step_result.density_matrix())\n",
    "\n",
    "circuit = circuit.with_noise(cirq.depolarize(p=p))\n",
    "\n",
    "for step_result in simulator.simulate_moment_steps(circuit):\n",
    "    densities_with_channels.append(step_result.density_matrix())\n",
    "\n",
    "fidelities = [1]\n",
    "for i in range(len(densities_without_channels)):\n",
    "    fidelities.append(cirq.fidelity(cirq.density_matrix(densities_without_channels[i]), cirq.density_matrix(densities_with_channels[2 * i + 1])))"
   ]
  },
  {
   "cell_type": "code",
   "execution_count": 139,
   "id": "f1e97ee6",
   "metadata": {},
   "outputs": [
    {
     "data": {
      "text/plain": [
       "[<matplotlib.lines.Line2D at 0x7fb5c88c9f70>]"
      ]
     },
     "execution_count": 139,
     "metadata": {},
     "output_type": "execute_result"
    },
    {
     "data": {
      "image/png": "[encoded data removed]",
      "text/plain": [
       "<Figure size 432x288 with 1 Axes>"
      ]
     },
     "metadata": {
      "needs_background": "light"
     },
     "output_type": "display_data"
    }
   ],
   "source": [
    "plt.plot(np.arange(0, len(fidelities)), fidelities)"
   ]
  },
  {
   "cell_type": "code",
   "execution_count": null,
   "id": "5f0d888e",
   "metadata": {},
   "outputs": [],
   "source": []
  },
  {
   "cell_type": "code",
   "execution_count": null,
   "id": "f7930695",
   "metadata": {},
   "outputs": [],
   "source": []
  },
  {
   "cell_type": "code",
   "execution_count": null,
   "id": "badd807d",
   "metadata": {},
   "outputs": [],
   "source": []
  },
  {
   "cell_type": "code",
   "execution_count": null,
   "id": "7417af0e",
   "metadata": {},
   "outputs": [],
   "source": []
  }
 ],
 "metadata": {
  "kernelspec": {
   "display_name": "Python 3",
   "language": "python",
   "name": "python3"
  },
  "language_info": {
   "codemirror_mode": {
    "name": "ipython",
    "version": 3
   },
   "file_extension": ".py",
   "mimetype": "text/x-python",
   "name": "python",
   "nbconvert_exporter": "python",
   "pygments_lexer": "ipython3",
   "version": "3.8.8"
  }
 },
 "nbformat": 4,
 "nbformat_minor": 5
}

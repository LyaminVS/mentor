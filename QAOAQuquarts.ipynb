{
 "cells": [
  {
   "cell_type": "code",
   "execution_count": 1,
   "id": "494fb5f0",
   "metadata": {},
   "outputs": [],
   "source": [
    "import cirq \n",
    "import numpy as np\n",
    "import matplotlib.pyplot as plt\n",
    "import networkx as nx\n",
    "from cirq.contrib.svg import SVGCircuit\n",
    "import sympy\n",
    "import scipy"
   ]
  },
  {
   "cell_type": "code",
   "execution_count": 2,
   "id": "4de26b24",
   "metadata": {},
   "outputs": [],
   "source": [
    "def generalized_sigma(index, i, j, dimension=4):\n",
    "    \"\"\"Generalized sigma matrix for qudit gates implementation\"\"\"\n",
    "\n",
    "    sigma = np.zeros((dimension, dimension), dtype='complex')\n",
    "\n",
    "    if index == 0:\n",
    "        # identity matrix elements\n",
    "        sigma[i][i] = 1\n",
    "        sigma[j][j] = 1\n",
    "    elif index == 1:\n",
    "        # sigma_x matrix elements\n",
    "        sigma[i][j] = 1\n",
    "        sigma[j][i] = 1\n",
    "    elif index == 2:\n",
    "        # sigma_y matrix elements\n",
    "        sigma[i][j] = -1j\n",
    "        sigma[j][i] = 1j\n",
    "    elif index == 3:\n",
    "        # sigma_z matrix elements\n",
    "        sigma[i][i] = 1\n",
    "        sigma[j][j] = -1\n",
    "\n",
    "    return sigma\n",
    "\n",
    "class QuditGate(cirq.Gate):\n",
    "    def __init__(self, dimension=4, num_qubits=1):\n",
    "        self.d = dimension\n",
    "        self.n = num_qubits\n",
    "        self.symbol = None\n",
    "\n",
    "    def _num_qubits_(self):\n",
    "        return self.n\n",
    "\n",
    "    def _qid_shape_(self):\n",
    "        return (self.d,) * self.n\n",
    "\n",
    "    def _circuit_diagram_info_(self, args):\n",
    "        return (self.symbol,) * self.n"
   ]
  },
  {
   "cell_type": "code",
   "execution_count": 3,
   "id": "1c5aa8a3",
   "metadata": {},
   "outputs": [],
   "source": [
    "class QuquartH(QuditGate):\n",
    "    def __init_(self):\n",
    "        super().__init__(dimension=4, num_qubits=1)\n",
    "        \n",
    "    def _unitary_(self):\n",
    "        return (1 / np.sqrt(2)) * np.array([[1, 1, 0, 0],\n",
    "                              [1, -1, 0, 0],\n",
    "                              [0, 0, 0, 0],\n",
    "                              [0, 0, 0, 0]])\n",
    "    \n",
    "    def _circuit_diagram_info_(self, args):\n",
    "        return \"[H4]\"\n",
    "\n",
    "class QuditZZGate(QuditGate):\n",
    "    def __init__(self, l1, l2, theta, dimension=4):\n",
    "        super().__init__(dimension=dimension, num_qubits=2)\n",
    "        self.l1 = l1\n",
    "        self.l2 = l2\n",
    "        self.theta = theta\n",
    "\n",
    "    def _unitary_(self):\n",
    "        sigma_z = generalized_sigma(3, self.l1, self.l2, dimension=self.d)\n",
    "        \n",
    "        u = scipy.linalg.expm(-1j * self.theta / 2 * np.kron(sigma_z, sigma_z))\n",
    "\n",
    "        return u\n",
    "\n",
    "    def _is_parameterized_(self) -> bool:\n",
    "        return cirq.protocols.is_parameterized(self.theta)\n",
    "\n",
    "    def _resolve_parameters_(self, resolver: 'cirq.ParamResolver', recursive: bool):\n",
    "        return self.__class__(self.l1, self.l2, resolver.value_of(self.theta, recursive), dimension=self.d)\n",
    "\n",
    "    def _circuit_diagram_info_(self, args):\n",
    "        return f\"ZZ^{self.theta}\", f\"ZZ^{self.theta}\"\n",
    "    \n",
    "\n",
    "class QuditXGate(QuditGate):\n",
    "    def __init__(self, l1, l2, theta, dimension=4):\n",
    "        super().__init__(dimension=dimension, num_qubits=1)\n",
    "        self.l1 = l1\n",
    "        self.l2 = l2\n",
    "        self.theta = theta\n",
    "\n",
    "    def _unitary_(self):\n",
    "        sigma_x = generalized_sigma(1, self.l1, self.l2, dimension=self.d)\n",
    "        \n",
    "        u = scipy.linalg.expm(-1j * self.theta / 2 * sigma_x)\n",
    "\n",
    "        return u\n",
    "\n",
    "    def _is_parameterized_(self) -> bool:\n",
    "        return cirq.protocols.is_parameterized(self.theta)\n",
    "\n",
    "    def _resolve_parameters_(self, resolver: 'cirq.ParamResolver', recursive: bool):\n",
    "        return self.__class__(self.l1, self.l2, resolver.value_of(self.theta, recursive), dimension=self.d)\n",
    "\n",
    "    def _circuit_diagram_info_(self, args):\n",
    "        return f\"X^{self.theta}\"\n",
    "    \n",
    "\n"
   ]
  },
  {
   "cell_type": "code",
   "execution_count": null,
   "id": "cde5e7aa",
   "metadata": {},
   "outputs": [],
   "source": []
  },
  {
   "cell_type": "code",
   "execution_count": 4,
   "id": "b4258efe",
   "metadata": {},
   "outputs": [
    {
     "data": {
      "image/png": "[encoded data removed]",
      "text/plain": [
       "<Figure size 432x288 with 1 Axes>"
      ]
     },
     "metadata": {},
     "output_type": "display_data"
    }
   ],
   "source": [
    "G = nx.Graph()\n",
    "G.add_nodes_from([0, 1, 2, 3])\n",
    "G.add_edges_from([(0, 1), (1, 2), (2, 3), (3, 0)])\n",
    "nx.draw(G, with_labels=True, alpha=0.8, node_size=500)\n"
   ]
  },
  {
   "cell_type": "code",
   "execution_count": 5,
   "id": "44d3d058",
   "metadata": {},
   "outputs": [],
   "source": [
    "nx.set_edge_attributes(\n",
    "    G,\n",
    "#     {e: {\"weight\": np.random.randint(0, 500) / 100} for e in G.edges},\n",
    "    {e: {\"weight\": 1} for e in G.edges}\n",
    ")\n"
   ]
  },
  {
   "cell_type": "code",
   "execution_count": 6,
   "id": "da2b99b4",
   "metadata": {},
   "outputs": [],
   "source": [
    "def estimate_cost(G, measurements) -> float:\n",
    "    cost_value = 0.0\n",
    "\n",
    "    \n",
    "    for u, v, w in G.edges(data=True):\n",
    "        u_samples = measurements[f\"q({u}) (d=4)\"]\n",
    "        v_samples = measurements[f\"q({v}) (d=4)\"]\n",
    "        \n",
    "        u_signs = (-1) ** u_samples\n",
    "        v_signs = (-1) ** v_samples\n",
    "        \n",
    "        term_signs = u_signs * v_signs\n",
    "        term_val = np.mean(term_signs) * w[\"weight\"]\n",
    "        cost_value += term_val\n",
    "    return cost_value"
   ]
  },
  {
   "cell_type": "code",
   "execution_count": 7,
   "id": "1fa5ce4b",
   "metadata": {},
   "outputs": [],
   "source": [
    "def function_for_minimize(data):\n",
    "    alpha_in = data[0]\n",
    "    beta_in = data[1]\n",
    "    alpha = sympy.Symbol(\"alpha\")\n",
    "    beta = sympy.Symbol(\"beta\")\n",
    "\n",
    "    qudits = cirq.LineQid.range(len(G.nodes), dimension=4)\n",
    "\n",
    "    qaoa_circuit = cirq.Circuit(\n",
    "        (QuquartH().on(qudit) for qudit in qudits),\n",
    "\n",
    "        (\n",
    "            QuditZZGate(0, 1, alpha * w[\"weight\"]).on(qudits[u], qudits[v])\n",
    "            for (u, v, w) in G.edges(data=True)\n",
    "        ),\n",
    "        cirq.Moment(QuditXGate(0, 1, beta).on(qudit) for qudit in qudits),\n",
    "\n",
    "        (cirq.measure(qudit) for qudit in qudits),\n",
    "    )\n",
    "    sim = cirq.Simulator()\n",
    "    sample_results = sim.sample(\n",
    "        qaoa_circuit, params={alpha: alpha_in, beta: beta_in}, repetitions=1000\n",
    "    )\n",
    "    SVGCircuit(qaoa_circuit)\n",
    "    return estimate_cost(G, sample_results), data"
   ]
  },
  {
   "cell_type": "code",
   "execution_count": null,
   "id": "e425e71b",
   "metadata": {},
   "outputs": [],
   "source": []
  },
  {
   "cell_type": "code",
   "execution_count": 8,
   "id": "4e106c17",
   "metadata": {},
   "outputs": [
    {
     "name": "stdout",
     "output_type": "stream",
     "text": [
      "[ 8.58585859 47.97979798]\n"
     ]
    }
   ],
   "source": [
    "\n",
    "alpha = []\n",
    "beta = []\n",
    "alpha_sweep = np.linspace(0, 50, 100)\n",
    "beta_sweep = np.linspace(0, 50, 100)\n",
    "params = np.transpose([np.tile(alpha_sweep, len(beta_sweep)), np.repeat(beta_sweep, len(alpha_sweep))])\n",
    "results = []\n",
    "\n",
    "for i, param in enumerate(params):\n",
    "    results.append(function_for_minimize(param)[0])\n",
    "print(params[results.index(min(results))])\n",
    "best_params = params[results.index(min(results))]"
   ]
  },
  {
   "cell_type": "code",
   "execution_count": 9,
   "id": "3d1dba6c",
   "metadata": {},
   "outputs": [
    {
     "data": {
      "image/svg+xml": [
       "<svg xmlns=\"http://www.w3.org/2000/svg\" width=\"637.7201562500001\" height=\"240.0\"><line x1=\"38.5016796875\" x2=\"607.7201562500001\" y1=\"45.0\" y2=\"45.0\" stroke=\"#1967d2\" stroke-width=\"1\" /><line x1=\"38.5016796875\" x2=\"607.7201562500001\" y1=\"95.0\" y2=\"95.0\" stroke=\"#1967d2\" stroke-width=\"1\" /><line x1=\"38.5016796875\" x2=\"607.7201562500001\" y1=\"145.0\" y2=\"145.0\" stroke=\"#1967d2\" stroke-width=\"1\" /><line x1=\"38.5016796875\" x2=\"607.7201562500001\" y1=\"195.0\" y2=\"195.0\" stroke=\"#1967d2\" stroke-width=\"1\" /><line x1=\"224.0574609375\" x2=\"368.1656640625\" y1=\"5.0\" y2=\"5.0\" stroke=\"black\" stroke-width=\"1\" /><line x1=\"224.0574609375\" x2=\"368.1656640625\" y1=\"235.0\" y2=\"235.0\" stroke=\"black\" stroke-width=\"1\" /><line x1=\"180.53041015625\" x2=\"180.53041015625\" y1=\"45.0\" y2=\"95.0\" stroke=\"black\" stroke-width=\"3\" /><line x1=\"257.58451171875\" x2=\"257.58451171875\" y1=\"45.0\" y2=\"195.0\" stroke=\"black\" stroke-width=\"3\" /><line x1=\"324.63861328125\" x2=\"324.63861328125\" y1=\"95.0\" y2=\"145.0\" stroke=\"black\" stroke-width=\"3\" /><line x1=\"421.69271484375\" x2=\"421.69271484375\" y1=\"145.0\" y2=\"195.0\" stroke=\"black\" stroke-width=\"3\" /><line x1=\"224.0574609375\" x2=\"224.0574609375\" y1=\"5.0\" y2=\"15.0\" stroke=\"black\" stroke-width=\"3\" /><line x1=\"368.1656640625\" x2=\"368.1656640625\" y1=\"5.0\" y2=\"15.0\" stroke=\"black\" stroke-width=\"3\" /><line x1=\"224.0574609375\" x2=\"224.0574609375\" y1=\"225.0\" y2=\"235.0\" stroke=\"black\" stroke-width=\"3\" /><line x1=\"368.1656640625\" x2=\"368.1656640625\" y1=\"225.0\" y2=\"235.0\" stroke=\"black\" stroke-width=\"3\" /><rect x=\"10.0\" y=\"25.0\" width=\"57.003359375\" height=\"40\" stroke=\"black\" fill=\"white\" stroke-width=\"0\" /><text x=\"38.5016796875\" y=\"45.0\" dominant-baseline=\"middle\" text-anchor=\"middle\" font-size=\"14px\" font-family=\"Arial\">0 (d=4): </text><rect x=\"10.0\" y=\"75.0\" width=\"57.003359375\" height=\"40\" stroke=\"black\" fill=\"white\" stroke-width=\"0\" /><text x=\"38.5016796875\" y=\"95.0\" dominant-baseline=\"middle\" text-anchor=\"middle\" font-size=\"14px\" font-family=\"Arial\">1 (d=4): </text><rect x=\"10.0\" y=\"125.0\" width=\"57.003359375\" height=\"40\" stroke=\"black\" fill=\"white\" stroke-width=\"0\" /><text x=\"38.5016796875\" y=\"145.0\" dominant-baseline=\"middle\" text-anchor=\"middle\" font-size=\"14px\" font-family=\"Arial\">2 (d=4): </text><rect x=\"10.0\" y=\"175.0\" width=\"57.003359375\" height=\"40\" stroke=\"black\" fill=\"white\" stroke-width=\"0\" /><text x=\"38.5016796875\" y=\"195.0\" dominant-baseline=\"middle\" text-anchor=\"middle\" font-size=\"14px\" font-family=\"Arial\">3 (d=4): </text><rect x=\"87.003359375\" y=\"25.0\" width=\"40\" height=\"40\" stroke=\"black\" fill=\"white\" stroke-width=\"1\" /><text x=\"107.003359375\" y=\"45.0\" dominant-baseline=\"middle\" text-anchor=\"middle\" font-size=\"14px\" font-family=\"Arial\">[H4]</text><rect x=\"87.003359375\" y=\"75.0\" width=\"40\" height=\"40\" stroke=\"black\" fill=\"white\" stroke-width=\"1\" /><text x=\"107.003359375\" y=\"95.0\" dominant-baseline=\"middle\" text-anchor=\"middle\" font-size=\"14px\" font-family=\"Arial\">[H4]</text><rect x=\"87.003359375\" y=\"125.0\" width=\"40\" height=\"40\" stroke=\"black\" fill=\"white\" stroke-width=\"1\" /><text x=\"107.003359375\" y=\"145.0\" dominant-baseline=\"middle\" text-anchor=\"middle\" font-size=\"14px\" font-family=\"Arial\">[H4]</text><rect x=\"87.003359375\" y=\"175.0\" width=\"40\" height=\"40\" stroke=\"black\" fill=\"white\" stroke-width=\"1\" /><text x=\"107.003359375\" y=\"195.0\" dominant-baseline=\"middle\" text-anchor=\"middle\" font-size=\"14px\" font-family=\"Arial\">[H4]</text><rect x=\"147.003359375\" y=\"25.0\" width=\"67.0541015625\" height=\"40\" stroke=\"black\" fill=\"white\" stroke-width=\"1\" /><text x=\"180.53041015625\" y=\"45.0\" dominant-baseline=\"middle\" text-anchor=\"middle\" font-size=\"14px\" font-family=\"Arial\">ZZ^alpha</text><rect x=\"147.003359375\" y=\"75.0\" width=\"67.0541015625\" height=\"40\" stroke=\"black\" fill=\"white\" stroke-width=\"1\" /><text x=\"180.53041015625\" y=\"95.0\" dominant-baseline=\"middle\" text-anchor=\"middle\" font-size=\"14px\" font-family=\"Arial\">ZZ^alpha</text><rect x=\"224.05746093749997\" y=\"25.0\" width=\"67.0541015625\" height=\"40\" stroke=\"black\" fill=\"white\" stroke-width=\"1\" /><text x=\"257.58451171875\" y=\"45.0\" dominant-baseline=\"middle\" text-anchor=\"middle\" font-size=\"14px\" font-family=\"Arial\">ZZ^alpha</text><rect x=\"224.05746093749997\" y=\"175.0\" width=\"67.0541015625\" height=\"40\" stroke=\"black\" fill=\"white\" stroke-width=\"1\" /><text x=\"257.58451171875\" y=\"195.0\" dominant-baseline=\"middle\" text-anchor=\"middle\" font-size=\"14px\" font-family=\"Arial\">ZZ^alpha</text><rect x=\"291.1115625\" y=\"75.0\" width=\"67.0541015625\" height=\"40\" stroke=\"black\" fill=\"white\" stroke-width=\"1\" /><text x=\"324.63861328125\" y=\"95.0\" dominant-baseline=\"middle\" text-anchor=\"middle\" font-size=\"14px\" font-family=\"Arial\">ZZ^alpha</text><rect x=\"291.1115625\" y=\"125.0\" width=\"67.0541015625\" height=\"40\" stroke=\"black\" fill=\"white\" stroke-width=\"1\" /><text x=\"324.63861328125\" y=\"145.0\" dominant-baseline=\"middle\" text-anchor=\"middle\" font-size=\"14px\" font-family=\"Arial\">ZZ^alpha</text><rect x=\"388.1656640625\" y=\"125.0\" width=\"67.0541015625\" height=\"40\" stroke=\"black\" fill=\"white\" stroke-width=\"1\" /><text x=\"421.69271484375\" y=\"145.0\" dominant-baseline=\"middle\" text-anchor=\"middle\" font-size=\"14px\" font-family=\"Arial\">ZZ^alpha</text><rect x=\"388.1656640625\" y=\"175.0\" width=\"67.0541015625\" height=\"40\" stroke=\"black\" fill=\"white\" stroke-width=\"1\" /><text x=\"421.69271484375\" y=\"195.0\" dominant-baseline=\"middle\" text-anchor=\"middle\" font-size=\"14px\" font-family=\"Arial\">ZZ^alpha</text><rect x=\"475.21976562500004\" y=\"25.0\" width=\"52.500390624999994\" height=\"40\" stroke=\"black\" fill=\"white\" stroke-width=\"1\" /><text x=\"501.46996093750005\" y=\"45.0\" dominant-baseline=\"middle\" text-anchor=\"middle\" font-size=\"14px\" font-family=\"Arial\">X^beta</text><rect x=\"475.21976562500004\" y=\"75.0\" width=\"52.500390624999994\" height=\"40\" stroke=\"black\" fill=\"white\" stroke-width=\"1\" /><text x=\"501.46996093750005\" y=\"95.0\" dominant-baseline=\"middle\" text-anchor=\"middle\" font-size=\"14px\" font-family=\"Arial\">X^beta</text><rect x=\"475.21976562500004\" y=\"125.0\" width=\"52.500390624999994\" height=\"40\" stroke=\"black\" fill=\"white\" stroke-width=\"1\" /><text x=\"501.46996093750005\" y=\"145.0\" dominant-baseline=\"middle\" text-anchor=\"middle\" font-size=\"14px\" font-family=\"Arial\">X^beta</text><rect x=\"475.21976562500004\" y=\"175.0\" width=\"52.500390624999994\" height=\"40\" stroke=\"black\" fill=\"white\" stroke-width=\"1\" /><text x=\"501.46996093750005\" y=\"195.0\" dominant-baseline=\"middle\" text-anchor=\"middle\" font-size=\"14px\" font-family=\"Arial\">X^beta</text><rect x=\"547.7201562500001\" y=\"25.0\" width=\"40\" height=\"40\" stroke=\"black\" fill=\"white\" stroke-width=\"1\" /><text x=\"567.7201562500001\" y=\"45.0\" dominant-baseline=\"middle\" text-anchor=\"middle\" font-size=\"18px\" font-family=\"Arial\">M</text><rect x=\"547.7201562500001\" y=\"75.0\" width=\"40\" height=\"40\" stroke=\"black\" fill=\"white\" stroke-width=\"1\" /><text x=\"567.7201562500001\" y=\"95.0\" dominant-baseline=\"middle\" text-anchor=\"middle\" font-size=\"18px\" font-family=\"Arial\">M</text><rect x=\"547.7201562500001\" y=\"125.0\" width=\"40\" height=\"40\" stroke=\"black\" fill=\"white\" stroke-width=\"1\" /><text x=\"567.7201562500001\" y=\"145.0\" dominant-baseline=\"middle\" text-anchor=\"middle\" font-size=\"18px\" font-family=\"Arial\">M</text><rect x=\"547.7201562500001\" y=\"175.0\" width=\"40\" height=\"40\" stroke=\"black\" fill=\"white\" stroke-width=\"1\" /><text x=\"567.7201562500001\" y=\"195.0\" dominant-baseline=\"middle\" text-anchor=\"middle\" font-size=\"18px\" font-family=\"Arial\">M</text></svg>"
      ],
      "text/plain": [
       "<cirq.contrib.svg.svg.SVGCircuit at 0x7fb1f0dbde50>"
      ]
     },
     "execution_count": 9,
     "metadata": {},
     "output_type": "execute_result"
    }
   ],
   "source": [
    "import pandas as pd\n",
    "alpha_in = best_params[0]\n",
    "beta_in = best_params[1]\n",
    "alpha = sympy.Symbol(\"alpha\")\n",
    "beta = sympy.Symbol(\"beta\")\n",
    "\n",
    "qudits = cirq.LineQid.range(len(G.nodes), dimension=4)\n",
    "\n",
    "qaoa_circuit = cirq.Circuit(\n",
    "    (QuquartH().on(qudit) for qudit in qudits),\n",
    "\n",
    "    (\n",
    "        QuditZZGate(0, 1, alpha * w[\"weight\"]).on(qudits[u], qudits[v])\n",
    "        for (u, v, w) in G.edges(data=True)\n",
    "    ),\n",
    "    cirq.Moment(QuditXGate(0, 1, beta).on(qudit) for qudit in qudits),\n",
    "\n",
    "    (cirq.measure(qudit) for qudit in qudits),\n",
    ")\n",
    "sim = cirq.Simulator()\n",
    "sample_results = sim.sample(\n",
    "    qaoa_circuit, params={alpha: alpha_in, beta: beta_in}, repetitions=20_000\n",
    ")\n",
    "SVGCircuit(qaoa_circuit)\n",
    "\n"
   ]
  },
  {
   "cell_type": "code",
   "execution_count": 10,
   "id": "a844716b",
   "metadata": {},
   "outputs": [
    {
     "data": {
      "text/plain": [
       "<matplotlib.axes._subplots.AxesSubplot at 0x7fb1c53fc6a0>"
      ]
     },
     "execution_count": 10,
     "metadata": {},
     "output_type": "execute_result"
    },
    {
     "data": {
      "image/png": "[encoded data removed]",
      "text/plain": [
       "<Figure size 432x288 with 1 Axes>"
      ]
     },
     "metadata": {
      "needs_background": "light"
     },
     "output_type": "display_data"
    }
   ],
   "source": [
    "result_strs = []\n",
    "for i in range(len(sample_results)):\n",
    "    one_result = sample_results.iloc[[i]]\n",
    "    result_str = str(one_result[f\"q({0}) (d=4)\"].to_numpy()[0]) + str(one_result[f\"q({1}) (d=4)\"].to_numpy()[0]) + str(one_result[f\"q({2}) (d=4)\"].to_numpy()[0]) + str(one_result[f\"q({3}) (d=4)\"].to_numpy()[0])\n",
    "    result_strs.append(result_str)\n",
    "pd.Series(result_strs).value_counts(sort=False).plot(kind='bar')"
   ]
  },
  {
   "cell_type": "code",
   "execution_count": null,
   "id": "74acea64",
   "metadata": {},
   "outputs": [],
   "source": []
  }
 ],
 "metadata": {
  "kernelspec": {
   "display_name": "Python 3",
   "language": "python",
   "name": "python3"
  },
  "language_info": {
   "codemirror_mode": {
    "name": "ipython",
    "version": 3
   },
   "file_extension": ".py",
   "mimetype": "text/x-python",
   "name": "python",
   "nbconvert_exporter": "python",
   "pygments_lexer": "ipython3",
   "version": "3.8.8"
  }
 },
 "nbformat": 4,
 "nbformat_minor": 5
}

{
 "cells": [
  {
   "cell_type": "code",
   "execution_count": 1,
   "id": "01826b37",
   "metadata": {},
   "outputs": [],
   "source": [
    "import networkx as nx\n",
    "import matplotlib.pyplot as plt"
   ]
  },
  {
   "cell_type": "code",
   "execution_count": 18,
   "id": "10dc6ecd",
   "metadata": {},
   "outputs": [
    {
     "data": {
      "image/png": "[encoded data removed]",
      "text/plain": [
       "<Figure size 432x288 with 1 Axes>"
      ]
     },
     "metadata": {},
     "output_type": "display_data"
    }
   ],
   "source": [
    "import networkx as nx\n",
    "\n",
    "G = nx.Graph()\n",
    "G.add_nodes_from([0, 1, 2, 3])\n",
    "G.add_edges_from([(0, 1), (1, 2), (2, 3), (3, 0), (1, 3), (0, 2)])\n",
    "nx.draw(G, with_labels=True, alpha=0.8, node_size=500)"
   ]
  },
  {
   "cell_type": "code",
   "execution_count": 19,
   "id": "f6fe71bb",
   "metadata": {},
   "outputs": [
    {
     "name": "stderr",
     "output_type": "stream",
     "text": [
      "C:\\Users\\Kaban\\AppData\\Local\\Temp\\ipykernel_26608\\3511420527.py:8: FutureWarning: adjacency_matrix will return a scipy.sparse array instead of a matrix in Networkx 3.0.\n",
      "  adjacency = nx.adjacency_matrix(G).todense()\n"
     ]
    },
    {
     "data": {
      "text/html": [
       "<pre style=\"word-wrap: normal;white-space: pre;background: #fff0;line-height: 1.1;font-family: &quot;Courier New&quot;,Courier,monospace\">     ┌───────────────┐\n",
       "q_0: ┤ Rx(2*$\\beta$) ├\n",
       "     ├───────────────┤\n",
       "q_1: ┤ Rx(2*$\\beta$) ├\n",
       "     ├───────────────┤\n",
       "q_2: ┤ Rx(2*$\\beta$) ├\n",
       "     ├───────────────┤\n",
       "q_3: ┤ Rx(2*$\\beta$) ├\n",
       "     └───────────────┘</pre>"
      ],
      "text/plain": [
       "     ┌───────────────┐\n",
       "q_0: ┤ Rx(2*$\\beta$) ├\n",
       "     ├───────────────┤\n",
       "q_1: ┤ Rx(2*$\\beta$) ├\n",
       "     ├───────────────┤\n",
       "q_2: ┤ Rx(2*$\\beta$) ├\n",
       "     ├───────────────┤\n",
       "q_3: ┤ Rx(2*$\\beta$) ├\n",
       "     └───────────────┘"
      ]
     },
     "execution_count": 19,
     "metadata": {},
     "output_type": "execute_result"
    }
   ],
   "source": [
    "from qiskit import QuantumCircuit, ClassicalRegister, QuantumRegister\n",
    "from qiskit import Aer, execute\n",
    "from qiskit.circuit import Parameter\n",
    "\n",
    "# Adjacency is essentially a matrix which tells you which nodes are\n",
    "# connected. This matrix is given as a sparse matrix, so we need to\n",
    "# convert it to a dense matrix\n",
    "adjacency = nx.adjacency_matrix(G).todense()\n",
    "\n",
    "nqubits = 4\n",
    "\n",
    "beta = Parameter(\"$\\\\beta$\")\n",
    "qc_mix = QuantumCircuit(nqubits)\n",
    "for i in range(0, nqubits):\n",
    "    qc_mix.rx(2 * beta, i)\n",
    "    \n",
    "qc_mix.draw()"
   ]
  },
  {
   "cell_type": "code",
   "execution_count": 20,
   "id": "84c1798c",
   "metadata": {},
   "outputs": [
    {
     "data": {
      "text/html": [
       "<pre style=\"word-wrap: normal;white-space: pre;background: #fff0;line-height: 1.1;font-family: &quot;Courier New&quot;,Courier,monospace\">                                  ░                              ░      »\n",
       "q_0: ──■──────────────────────■───░───■──────────────────────■───░───■──»\n",
       "     ┌─┴─┐┌────────────────┐┌─┴─┐ ░   │                      │   ░   │  »\n",
       "q_1: ┤ X ├┤ Rz(2*$\\gamma$) ├┤ X ├─░───┼──────────────────────┼───░───┼──»\n",
       "     └───┘└────────────────┘└───┘ ░   │                      │   ░ ┌─┴─┐»\n",
       "q_2: ─────────────────────────────░───┼──────────────────────┼───░─┤ X ├»\n",
       "                                  ░ ┌─┴─┐┌────────────────┐┌─┴─┐ ░ └───┘»\n",
       "q_3: ─────────────────────────────░─┤ X ├┤ Rz(2*$\\gamma$) ├┤ X ├─░──────»\n",
       "                                  ░ └───┘└────────────────┘└───┘ ░      »\n",
       "«                             ░                              ░      »\n",
       "«q_0: ────────────────────■───░──────────────────────────────░──────»\n",
       "«                         │   ░                              ░      »\n",
       "«q_1: ────────────────────┼───░───■──────────────────────■───░───■──»\n",
       "«     ┌────────────────┐┌─┴─┐ ░ ┌─┴─┐┌────────────────┐┌─┴─┐ ░   │  »\n",
       "«q_2: ┤ Rz(2*$\\gamma$) ├┤ X ├─░─┤ X ├┤ Rz(2*$\\gamma$) ├┤ X ├─░───┼──»\n",
       "«     └────────────────┘└───┘ ░ └───┘└────────────────┘└───┘ ░ ┌─┴─┐»\n",
       "«q_3: ────────────────────────░──────────────────────────────░─┤ X ├»\n",
       "«                             ░                              ░ └───┘»\n",
       "«                             ░                              ░ \n",
       "«q_0: ────────────────────────░──────────────────────────────░─\n",
       "«                             ░                              ░ \n",
       "«q_1: ────────────────────■───░──────────────────────────────░─\n",
       "«                         │   ░                              ░ \n",
       "«q_2: ────────────────────┼───░───■──────────────────────■───░─\n",
       "«     ┌────────────────┐┌─┴─┐ ░ ┌─┴─┐┌────────────────┐┌─┴─┐ ░ \n",
       "«q_3: ┤ Rz(2*$\\gamma$) ├┤ X ├─░─┤ X ├┤ Rz(2*$\\gamma$) ├┤ X ├─░─\n",
       "«     └────────────────┘└───┘ ░ └───┘└────────────────┘└───┘ ░ </pre>"
      ],
      "text/plain": [
       "                                  ░                              ░      »\n",
       "q_0: ──■──────────────────────■───░───■──────────────────────■───░───■──»\n",
       "     ┌─┴─┐┌────────────────┐┌─┴─┐ ░   │                      │   ░   │  »\n",
       "q_1: ┤ X ├┤ Rz(2*$\\gamma$) ├┤ X ├─░───┼──────────────────────┼───░───┼──»\n",
       "     └───┘└────────────────┘└───┘ ░   │                      │   ░ ┌─┴─┐»\n",
       "q_2: ─────────────────────────────░───┼──────────────────────┼───░─┤ X ├»\n",
       "                                  ░ ┌─┴─┐┌────────────────┐┌─┴─┐ ░ └───┘»\n",
       "q_3: ─────────────────────────────░─┤ X ├┤ Rz(2*$\\gamma$) ├┤ X ├─░──────»\n",
       "                                  ░ └───┘└────────────────┘└───┘ ░      »\n",
       "«                             ░                              ░      »\n",
       "«q_0: ────────────────────■───░──────────────────────────────░──────»\n",
       "«                         │   ░                              ░      »\n",
       "«q_1: ────────────────────┼───░───■──────────────────────■───░───■──»\n",
       "«     ┌────────────────┐┌─┴─┐ ░ ┌─┴─┐┌────────────────┐┌─┴─┐ ░   │  »\n",
       "«q_2: ┤ Rz(2*$\\gamma$) ├┤ X ├─░─┤ X ├┤ Rz(2*$\\gamma$) ├┤ X ├─░───┼──»\n",
       "«     └────────────────┘└───┘ ░ └───┘└────────────────┘└───┘ ░ ┌─┴─┐»\n",
       "«q_3: ────────────────────────░──────────────────────────────░─┤ X ├»\n",
       "«                             ░                              ░ └───┘»\n",
       "«                             ░                              ░ \n",
       "«q_0: ────────────────────────░──────────────────────────────░─\n",
       "«                             ░                              ░ \n",
       "«q_1: ────────────────────■───░──────────────────────────────░─\n",
       "«                         │   ░                              ░ \n",
       "«q_2: ────────────────────┼───░───■──────────────────────■───░─\n",
       "«     ┌────────────────┐┌─┴─┐ ░ ┌─┴─┐┌────────────────┐┌─┴─┐ ░ \n",
       "«q_3: ┤ Rz(2*$\\gamma$) ├┤ X ├─░─┤ X ├┤ Rz(2*$\\gamma$) ├┤ X ├─░─\n",
       "«     └────────────────┘└───┘ ░ └───┘└────────────────┘└───┘ ░ "
      ]
     },
     "execution_count": 20,
     "metadata": {},
     "output_type": "execute_result"
    }
   ],
   "source": [
    "gamma = Parameter(\"$\\\\gamma$\")\n",
    "qc_p = QuantumCircuit(nqubits)\n",
    "for pair in list(G.edges()):  # pairs of nodes\n",
    "    qc_p.rzz(2 * gamma, pair[0], pair[1])\n",
    "    qc_p.barrier()\n",
    "    \n",
    "qc_p.decompose().draw()"
   ]
  },
  {
   "cell_type": "code",
   "execution_count": 21,
   "id": "0e8c1ab2",
   "metadata": {},
   "outputs": [
    {
     "data": {
      "text/html": [
       "<pre style=\"word-wrap: normal;white-space: pre;background: #fff0;line-height: 1.1;font-family: &quot;Courier New&quot;,Courier,monospace\">     ┌───┐\n",
       "q_0: ┤ H ├\n",
       "     ├───┤\n",
       "q_1: ┤ H ├\n",
       "     ├───┤\n",
       "q_2: ┤ H ├\n",
       "     ├───┤\n",
       "q_3: ┤ H ├\n",
       "     └───┘</pre>"
      ],
      "text/plain": [
       "     ┌───┐\n",
       "q_0: ┤ H ├\n",
       "     ├───┤\n",
       "q_1: ┤ H ├\n",
       "     ├───┤\n",
       "q_2: ┤ H ├\n",
       "     ├───┤\n",
       "q_3: ┤ H ├\n",
       "     └───┘"
      ]
     },
     "execution_count": 21,
     "metadata": {},
     "output_type": "execute_result"
    }
   ],
   "source": [
    "qc_0 = QuantumCircuit(nqubits)\n",
    "for i in range(0, nqubits):\n",
    "    qc_0.h(i)\n",
    "    \n",
    "qc_0.draw()"
   ]
  },
  {
   "cell_type": "code",
   "execution_count": 22,
   "id": "565ec0b5",
   "metadata": {},
   "outputs": [
    {
     "data": {
      "text/html": [
       "<pre style=\"word-wrap: normal;white-space: pre;background: #fff0;line-height: 1.1;font-family: &quot;Courier New&quot;,Courier,monospace\">     ┌─────────┐                             ░                              ░ »\n",
       "q_0: ┤ U2(0,π) ├──■──────────────────────■───░───■──────────────────────■───░─»\n",
       "     ├─────────┤┌─┴─┐┌────────────────┐┌─┴─┐ ░   │                      │   ░ »\n",
       "q_1: ┤ U2(0,π) ├┤ X ├┤ Rz(2*$\\gamma$) ├┤ X ├─░───┼──────────────────────┼───░─»\n",
       "     ├─────────┤└───┘└────────────────┘└───┘ ░   │                      │   ░ »\n",
       "q_2: ┤ U2(0,π) ├─────────────────────────────░───┼──────────────────────┼───░─»\n",
       "     ├─────────┤                             ░ ┌─┴─┐┌────────────────┐┌─┴─┐ ░ »\n",
       "q_3: ┤ U2(0,π) ├─────────────────────────────░─┤ X ├┤ Rz(2*$\\gamma$) ├┤ X ├─░─»\n",
       "     └─────────┘                             ░ └───┘└────────────────┘└───┘ ░ »\n",
       "«                                  ░                              ░      »\n",
       "«q_0: ──■──────────────────────■───░──────────────────────────────░──────»\n",
       "«       │                      │   ░                              ░      »\n",
       "«q_1: ──┼──────────────────────┼───░───■──────────────────────■───░───■──»\n",
       "«     ┌─┴─┐┌────────────────┐┌─┴─┐ ░ ┌─┴─┐┌────────────────┐┌─┴─┐ ░   │  »\n",
       "«q_2: ┤ X ├┤ Rz(2*$\\gamma$) ├┤ X ├─░─┤ X ├┤ Rz(2*$\\gamma$) ├┤ X ├─░───┼──»\n",
       "«     └───┘└────────────────┘└───┘ ░ └───┘└────────────────┘└───┘ ░ ┌─┴─┐»\n",
       "«q_3: ─────────────────────────────░──────────────────────────────░─┤ X ├»\n",
       "«                                  ░                              ░ └───┘»\n",
       "«                             ░                              ░ »\n",
       "«q_0: ────────────────────────░──────────────────────────────░─»\n",
       "«                             ░                              ░ »\n",
       "«q_1: ────────────────────■───░──────────────────────────────░─»\n",
       "«                         │   ░                              ░ »\n",
       "«q_2: ────────────────────┼───░───■──────────────────────■───░─»\n",
       "«     ┌────────────────┐┌─┴─┐ ░ ┌─┴─┐┌────────────────┐┌─┴─┐ ░ »\n",
       "«q_3: ┤ Rz(2*$\\gamma$) ├┤ X ├─░─┤ X ├┤ Rz(2*$\\gamma$) ├┤ X ├─░─»\n",
       "«     └────────────────┘└───┘ ░ └───┘└────────────────┘└───┘ ░ »\n",
       "«     ┌────────────────┐\n",
       "«q_0: ┤ R(2*$\\beta$,0) ├\n",
       "«     ├────────────────┤\n",
       "«q_1: ┤ R(2*$\\beta$,0) ├\n",
       "«     ├────────────────┤\n",
       "«q_2: ┤ R(2*$\\beta$,0) ├\n",
       "«     ├────────────────┤\n",
       "«q_3: ┤ R(2*$\\beta$,0) ├\n",
       "«     └────────────────┘</pre>"
      ],
      "text/plain": [
       "     ┌─────────┐                             ░                              ░ »\n",
       "q_0: ┤ U2(0,π) ├──■──────────────────────■───░───■──────────────────────■───░─»\n",
       "     ├─────────┤┌─┴─┐┌────────────────┐┌─┴─┐ ░   │                      │   ░ »\n",
       "q_1: ┤ U2(0,π) ├┤ X ├┤ Rz(2*$\\gamma$) ├┤ X ├─░───┼──────────────────────┼───░─»\n",
       "     ├─────────┤└───┘└────────────────┘└───┘ ░   │                      │   ░ »\n",
       "q_2: ┤ U2(0,π) ├─────────────────────────────░───┼──────────────────────┼───░─»\n",
       "     ├─────────┤                             ░ ┌─┴─┐┌────────────────┐┌─┴─┐ ░ »\n",
       "q_3: ┤ U2(0,π) ├─────────────────────────────░─┤ X ├┤ Rz(2*$\\gamma$) ├┤ X ├─░─»\n",
       "     └─────────┘                             ░ └───┘└────────────────┘└───┘ ░ »\n",
       "«                                  ░                              ░      »\n",
       "«q_0: ──■──────────────────────■───░──────────────────────────────░──────»\n",
       "«       │                      │   ░                              ░      »\n",
       "«q_1: ──┼──────────────────────┼───░───■──────────────────────■───░───■──»\n",
       "«     ┌─┴─┐┌────────────────┐┌─┴─┐ ░ ┌─┴─┐┌────────────────┐┌─┴─┐ ░   │  »\n",
       "«q_2: ┤ X ├┤ Rz(2*$\\gamma$) ├┤ X ├─░─┤ X ├┤ Rz(2*$\\gamma$) ├┤ X ├─░───┼──»\n",
       "«     └───┘└────────────────┘└───┘ ░ └───┘└────────────────┘└───┘ ░ ┌─┴─┐»\n",
       "«q_3: ─────────────────────────────░──────────────────────────────░─┤ X ├»\n",
       "«                                  ░                              ░ └───┘»\n",
       "«                             ░                              ░ »\n",
       "«q_0: ────────────────────────░──────────────────────────────░─»\n",
       "«                             ░                              ░ »\n",
       "«q_1: ────────────────────■───░──────────────────────────────░─»\n",
       "«                         │   ░                              ░ »\n",
       "«q_2: ────────────────────┼───░───■──────────────────────■───░─»\n",
       "«     ┌────────────────┐┌─┴─┐ ░ ┌─┴─┐┌────────────────┐┌─┴─┐ ░ »\n",
       "«q_3: ┤ Rz(2*$\\gamma$) ├┤ X ├─░─┤ X ├┤ Rz(2*$\\gamma$) ├┤ X ├─░─»\n",
       "«     └────────────────┘└───┘ ░ └───┘└────────────────┘└───┘ ░ »\n",
       "«     ┌────────────────┐\n",
       "«q_0: ┤ R(2*$\\beta$,0) ├\n",
       "«     ├────────────────┤\n",
       "«q_1: ┤ R(2*$\\beta$,0) ├\n",
       "«     ├────────────────┤\n",
       "«q_2: ┤ R(2*$\\beta$,0) ├\n",
       "«     ├────────────────┤\n",
       "«q_3: ┤ R(2*$\\beta$,0) ├\n",
       "«     └────────────────┘"
      ]
     },
     "execution_count": 22,
     "metadata": {},
     "output_type": "execute_result"
    }
   ],
   "source": [
    "qc_qaoa = QuantumCircuit(nqubits)\n",
    "\n",
    "qc_qaoa.append(qc_0, [i for i in range(0, nqubits)])\n",
    "qc_qaoa.append(qc_p, [i for i in range(0, nqubits)])\n",
    "qc_qaoa.append(qc_mix, [i for i in range(0, nqubits)])\n",
    "\n",
    "qc_qaoa.decompose().decompose().draw()"
   ]
  },
  {
   "cell_type": "code",
   "execution_count": 23,
   "id": "ebbd088a",
   "metadata": {},
   "outputs": [],
   "source": [
    "def maxcut_obj(x, G):\n",
    "    \"\"\"\n",
    "    Given a bitstring as a solution, this function returns\n",
    "    the number of edges shared between the two partitions\n",
    "    of the graph.\n",
    "    \n",
    "    Args:\n",
    "        x: str\n",
    "           solution bitstring\n",
    "           \n",
    "        G: networkx graph\n",
    "        \n",
    "    Returns:\n",
    "        obj: float\n",
    "             Objective\n",
    "    \"\"\"\n",
    "    obj = 0\n",
    "    for i, j in G.edges():\n",
    "        if x[i] != x[j]:\n",
    "            obj -= 1\n",
    "            \n",
    "    return obj\n",
    "\n",
    "\n",
    "def compute_expectation(counts, G):\n",
    "    \n",
    "    \"\"\"\n",
    "    Computes expectation value based on measurement results\n",
    "    \n",
    "    Args:\n",
    "        counts: dict\n",
    "                key as bitstring, val as count\n",
    "           \n",
    "        G: networkx graph\n",
    "        \n",
    "    Returns:\n",
    "        avg: float\n",
    "             expectation value\n",
    "    \"\"\"\n",
    "    \n",
    "    avg = 0\n",
    "    sum_count = 0\n",
    "    for bitstring, count in counts.items():\n",
    "        \n",
    "        obj = maxcut_obj(bitstring, G)\n",
    "        avg += obj * count\n",
    "        sum_count += count\n",
    "        \n",
    "    return avg/sum_count\n",
    "\n",
    "\n",
    "# We will also bring the different circuit components that\n",
    "# build the qaoa circuit under a single function\n",
    "def create_qaoa_circ(G, theta):\n",
    "    \n",
    "    \"\"\"\n",
    "    Creates a parametrized qaoa circuit\n",
    "    \n",
    "    Args:  \n",
    "        G: networkx graph\n",
    "        theta: list\n",
    "               unitary parameters\n",
    "                     \n",
    "    Returns:\n",
    "        qc: qiskit circuit\n",
    "    \"\"\"\n",
    "    \n",
    "    nqubits = len(G.nodes())\n",
    "    p = len(theta)//2  # number of alternating unitaries\n",
    "    qc = QuantumCircuit(nqubits)\n",
    "    \n",
    "    beta = theta[:p]\n",
    "    gamma = theta[p:]\n",
    "    \n",
    "    # initial_state\n",
    "    for i in range(0, nqubits):\n",
    "        qc.h(i)\n",
    "    \n",
    "    for irep in range(0, p):\n",
    "        \n",
    "        # problem unitary\n",
    "        for pair in list(G.edges()):\n",
    "            qc.rzz(2 * gamma[irep], pair[0], pair[1])\n",
    "\n",
    "        # mixer unitary\n",
    "        for i in range(0, nqubits):\n",
    "            qc.rx(2 * beta[irep], i)\n",
    "            \n",
    "    qc.measure_all()\n",
    "        \n",
    "    return qc\n",
    "\n",
    "# Finally we write a function that executes the circuit on the chosen backend\n",
    "def get_expectation(G, p, shots=512):\n",
    "    \n",
    "    \"\"\"\n",
    "    Runs parametrized circuit\n",
    "    \n",
    "    Args:\n",
    "        G: networkx graph\n",
    "        p: int,\n",
    "           Number of repetitions of unitaries\n",
    "    \"\"\"\n",
    "    \n",
    "    backend = Aer.get_backend('qasm_simulator')\n",
    "    backend.shots = shots\n",
    "    \n",
    "    def execute_circ(theta):\n",
    "        \n",
    "        qc = create_qaoa_circ(G, theta)\n",
    "        counts = backend.run(qc, seed_simulator=10, \n",
    "                             nshots=512).result().get_counts()\n",
    "        \n",
    "        return compute_expectation(counts, G)\n",
    "    \n",
    "    return execute_circ"
   ]
  },
  {
   "cell_type": "code",
   "execution_count": 24,
   "id": "5a74ddb5",
   "metadata": {},
   "outputs": [
    {
     "data": {
      "text/plain": [
       "     fun: -3.6923828125\n",
       "   maxcv: 0.0\n",
       " message: 'Optimization terminated successfully.'\n",
       "    nfev: 32\n",
       "  status: 1\n",
       " success: True\n",
       "       x: array([ 0.27386881, -0.25638493])"
      ]
     },
     "execution_count": 24,
     "metadata": {},
     "output_type": "execute_result"
    }
   ],
   "source": [
    "from scipy.optimize import minimize\n",
    "\n",
    "\n",
    "expectation = get_expectation(G, p=1)\n",
    "\n",
    "res = minimize(expectation, \n",
    "                      [1.0, 1.0], \n",
    "                      method='COBYLA')\n",
    "res"
   ]
  },
  {
   "cell_type": "code",
   "execution_count": 25,
   "id": "2ca6b228",
   "metadata": {},
   "outputs": [
    {
     "data": {
      "image/png": "[encoded data removed]",
      "text/plain": [
       "<Figure size 504x360 with 1 Axes>"
      ]
     },
     "execution_count": 25,
     "metadata": {},
     "output_type": "execute_result"
    }
   ],
   "source": [
    "from qiskit.visualization import plot_histogram\n",
    "\n",
    "backend = Aer.get_backend('aer_simulator')\n",
    "backend.shots = 512\n",
    "\n",
    "qc_res = create_qaoa_circ(G, res.x)\n",
    "\n",
    "counts = backend.run(qc_res, seed_simulator=10).result().get_counts()\n",
    "\n",
    "plot_histogram(counts)"
   ]
  },
  {
   "cell_type": "code",
   "execution_count": null,
   "id": "726fffed",
   "metadata": {},
   "outputs": [],
   "source": []
  },
  {
   "cell_type": "code",
   "execution_count": null,
   "id": "46c9066b",
   "metadata": {},
   "outputs": [],
   "source": []
  },
  {
   "cell_type": "code",
   "execution_count": null,
   "id": "d393ec24",
   "metadata": {},
   "outputs": [],
   "source": []
  },
  {
   "cell_type": "code",
   "execution_count": null,
   "id": "0460ae30",
   "metadata": {},
   "outputs": [],
   "source": []
  },
  {
   "cell_type": "code",
   "execution_count": null,
   "id": "0c472767",
   "metadata": {},
   "outputs": [],
   "source": []
  }
 ],
 "metadata": {
  "kernelspec": {
   "display_name": "Python 3 (ipykernel)",
   "language": "python",
   "name": "python3"
  },
  "language_info": {
   "codemirror_mode": {
    "name": "ipython",
    "version": 3
   },
   "file_extension": ".py",
   "mimetype": "text/x-python",
   "name": "python",
   "nbconvert_exporter": "python",
   "pygments_lexer": "ipython3",
   "version": "3.9.12"
  }
 },
 "nbformat": 4,
 "nbformat_minor": 5
}
